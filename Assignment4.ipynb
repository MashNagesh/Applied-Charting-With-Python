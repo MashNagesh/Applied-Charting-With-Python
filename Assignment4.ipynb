{
 "cells": [
  {
   "cell_type": "markdown",
   "metadata": {},
   "source": [
    "# Assignment 4\n",
    "\n",
    "Before working on this assignment please read these instructions fully. In the submission area, you will notice that you can click the link to **Preview the Grading** for each step of the assignment. This is the criteria that will be used for peer grading. Please familiarize yourself with the criteria before beginning the assignment.\n",
    "\n",
    "This assignment requires that you to find **at least** two datasets on the web which are related, and that you visualize these datasets to answer a question with the broad topic of **sports or athletics** (see below) for the region of **Ann Arbor, Michigan, United States**, or **United States** more broadly.\n",
    "\n",
    "You can merge these datasets with data from different regions if you like! For instance, you might want to compare **Ann Arbor, Michigan, United States** to Ann Arbor, USA. In that case at least one source file must be about **Ann Arbor, Michigan, United States**.\n",
    "\n",
    "You are welcome to choose datasets at your discretion, but keep in mind **they will be shared with your peers**, so choose appropriate datasets. Sensitive, confidential, illicit, and proprietary materials are not good choices for datasets for this assignment. You are welcome to upload datasets of your own as well, and link to them using a third party repository such as github, bitbucket, pastebin, etc. Please be aware of the Coursera terms of service with respect to intellectual property.\n",
    "\n",
    "Also, you are welcome to preserve data in its original language, but for the purposes of grading you should provide english translations. You are welcome to provide multiple visuals in different languages if you would like!\n",
    "\n",
    "As this assignment is for the whole course, you must incorporate principles discussed in the first week, such as having as high data-ink ratio (Tufte) and aligning with Cairo’s principles of truth, beauty, function, and insight.\n",
    "\n",
    "Here are the assignment instructions:\n",
    "\n",
    " * State the region and the domain category that your data sets are about (e.g., **Ann Arbor, Michigan, United States** and **sports or athletics**).\n",
    " * You must state a question about the domain category and region that you identified as being interesting.\n",
    " * You must provide at least two links to available datasets. These could be links to files such as CSV or Excel files, or links to websites which might have data in tabular form, such as Wikipedia pages.\n",
    " * You must upload an image which addresses the research question you stated. In addition to addressing the question, this visual should follow Cairo's principles of truthfulness, functionality, beauty, and insightfulness.\n",
    " * You must contribute a short (1-2 paragraph) written justification of how your visualization addresses your stated research question.\n",
    "\n",
    "What do we mean by **sports or athletics**?  For this category we are interested in sporting events or athletics broadly, please feel free to creatively interpret the category when building your research question!\n",
    "\n",
    "## Tips\n",
    "* Wikipedia is an excellent source of data, and I strongly encourage you to explore it for new data sources.\n",
    "* Many governments run open data initiatives at the city, region, and country levels, and these are wonderful resources for localized data sources.\n",
    "* Several international agencies, such as the [United Nations](http://data.un.org/), the [World Bank](http://data.worldbank.org/), the [Global Open Data Index](http://index.okfn.org/place/) are other great places to look for data.\n",
    "* This assignment requires you to convert and clean datafiles. Check out the discussion forums for tips on how to do this from various sources, and share your successes with your fellow students!\n",
    "\n",
    "## Example\n",
    "Looking for an example? Here's what our course assistant put together for the **Ann Arbor, MI, USA** area using **sports and athletics** as the topic. [Example Solution File](./readonly/Assignment4_example.pdf)"
   ]
  },
  {
   "cell_type": "markdown",
   "metadata": {},
   "source": [
    "#### REGION : UNITED STATES\n",
    "#### DOMAIN : Sports and Athletics  - Tennis"
   ]
  },
  {
   "cell_type": "markdown",
   "metadata": {
    "collapsed": true
   },
   "source": [
    "##### Question: \n",
    "\n",
    "- Study the trend of Win % in Tennis ATP tournaments over the last 25 years for USA (1991-2016)\n",
    "\n",
    "Other Questions to explore\n",
    "- Wins with Straight sets\n",
    "- Wins with Tie breakers \n",
    "- Does height matter in Tennis\n"
   ]
  },
  {
   "cell_type": "markdown",
   "metadata": {},
   "source": [
    "#### Source :\n",
    "\n",
    "1.https://datahub.io/sports-data/atp-world-tour-tennis-data#resource-match_stats_1991-2016_unindexed\n",
    "\n",
    "2.https://datahub.io/sports-data/atp-world-tour-tennis-data#resource-player_overviews_unindexed\n",
    "    "
   ]
  },
  {
   "cell_type": "code",
   "execution_count": 2,
   "metadata": {
    "collapsed": true
   },
   "outputs": [],
   "source": [
    "### Importing Libraries\n",
    "\n",
    "import pandas as pd\n",
    "import numpy as np\n",
    "import matplotlib.pyplot as plt\n",
    "import seaborn as sns\n",
    "%notebook matplotlib"
   ]
  },
  {
   "cell_type": "code",
   "execution_count": 3,
   "metadata": {
    "collapsed": true
   },
   "outputs": [],
   "source": [
    "# Data Extraction\n",
    "\n",
    "#Player Profile\n",
    "player_df = pd.read_csv('ATP/player_overviews_unindexed_csv.csv')\n",
    "#Match Scores\n",
    "scores_df = pd.read_csv('ATP/match_scores_1991-2016_unindexed_csv.csv')\n",
    "\n",
    "#Adding the Year Column to the Match Scores\n",
    "scores_df['year'] =scores_df['tourney_year_id'] .str.split(\"-\",expand = True)[0]\n",
    "\n",
    "# Add the Country Flag to the players and Height Column for Other analysis\n",
    "scores_df = pd.merge(scores_df,player_df[['player_id','flag_code','height_cm']],left_on = 'winner_player_id', right_on = 'player_id',how = 'inner')\n",
    "scores_df = pd.merge(scores_df,player_df[['player_id','flag_code','height_cm']],left_on = 'loser_player_id', right_on = 'player_id',how = 'inner')\n",
    "\n",
    "#Rename Columns\n",
    "scores_df.rename(columns={'flag_code_x':'w_flag_code','height_cm_x':'w_height_cm',\\\n",
    "                          'flag_code_y':'l_flag_code','height_cm_y':'l_height_cm'},inplace = True)\n",
    "scores_df.drop(['player_id_x','player_id_y'],axis = 1,inplace=True)"
   ]
  },
  {
   "cell_type": "code",
   "execution_count": 4,
   "metadata": {
    "collapsed": false
   },
   "outputs": [],
   "source": [
    "# Adding USA Flag\n",
    "scores_df['w_USA'] = np.where (scores_df.w_flag_code =='USA',1,0)\n",
    "scores_df['l_USA'] = np.where (scores_df.l_flag_code =='USA',1,0)"
   ]
  },
  {
   "cell_type": "code",
   "execution_count": 5,
   "metadata": {
    "collapsed": false
   },
   "outputs": [],
   "source": [
    "# Extracting only recorsd where USA played a match\n",
    "working_df_subset = scores_df.query('w_USA == 1 or l_USA ==1')[['year','match_id','w_USA','l_USA']]\n",
    "working_df_overall = working_df_subset[['year','match_id']].groupby('year').agg({'count'}).reset_index()\n",
    "working_df_USA = working_df_subset[['year','w_USA']].query('w_USA ==1').groupby('year').agg({'count'}).reset_index()\n",
    "working_df_USA.columns=working_df_USA.columns.get_level_values(0)\n",
    "working_df_overall.columns = working_df_overall.columns.get_level_values(0)"
   ]
  },
  {
   "cell_type": "code",
   "execution_count": 6,
   "metadata": {
    "collapsed": false
   },
   "outputs": [],
   "source": [
    "working_df = working_df_overall.merge(working_df_USA,how = 'inner')"
   ]
  },
  {
   "cell_type": "code",
   "execution_count": 58,
   "metadata": {
    "collapsed": false
   },
   "outputs": [
    {
     "data": {
      "text/plain": [
       "<matplotlib.figure.Figure at 0xdf733c8>"
      ]
     },
     "metadata": {},
     "output_type": "display_data"
    },
    {
     "data": {
      "image/png": "[encoded data removed]",
      "text/plain": [
       "<matplotlib.figure.Figure at 0xde4dac8>"
      ]
     },
     "metadata": {},
     "output_type": "display_data"
    }
   ],
   "source": [
    "plt.figure(figsize = [13,5])\n",
    "proportion_won= np.true_divide(working_df.w_USA, working_df.match_id) * 100\n",
    "proportion_lose= 100-proportion_won\n",
    "N = len (working_df)\n",
    "index = np.arange(N)\n",
    "width = 0.5\n",
    "p1 = plt.bar(index,proportion_won,width=width,alpha = 0.5,color = 'aquamarine')\n",
    "p2 = plt.bar(index,proportion_lose,width=width,bottom=proportion_won,alpha = 0.7)\n",
    "p3 = plt.axhline(proportion_won.mean(),color = 'brown',linewidth = 2)\n",
    "plt.annotate('Mean: {:0.2f}'.format(proportion_won.mean()),xy=(0,proportion_won.mean()+2),color = 'brown')\n",
    "plt.ylabel('Proportion')\n",
    "plt.title('Matches Played vs Matches Won by Proportion- USA ',fontsize = 15)\n",
    "plt.xticks(index, (working_df.year))\n",
    "plt.legend((p1[0], p2[0]), ('USA Won', 'Overall '),loc='lower right', bbox_to_anchor=(1, 1), ncol=2)\n",
    "plt.gca().set_facecolor('white')\n",
    "plt.savefig('Assignment_4_img.png')\n",
    "plt.show()\n"
   ]
  },
  {
   "cell_type": "markdown",
   "metadata": {
    "collapsed": true
   },
   "source": [
    "###### How the Visual addresses the Research question?"
   ]
  },
  {
   "cell_type": "raw",
   "metadata": {},
   "source": [
    "The Visual captures the trend of Win percentages of USA in ATP tournaments across  25 years.\n",
    "A stacked bar chart is chosen to represent proportion of Wins in terms of the Total Matches played.\n",
    "The horizontal line show the average win rate in the last 25 years.\n",
    "It is evident from the graph that the win % of USA has gone down in the recent 10 years with the Aqua bars ending below the Mean line  for this period.This shows an overall declining trend.\n",
    "\n",
    "Truth - The data is actual not derived from Sample hence truthfulness is preserved.No extrapolation is done\n",
    "Beauty - Pleasing and contrasting colours have been chosen for the Visual.The legend is placed outside the figure to avoid cluttering and ass beauty\n",
    "Functionality - The choice of Chart is chosen in  such a manner it serves the purpose of showing the % Wins\n",
    "Insight - Adding the Mean line shows that insight that there is a decline in the %wins"
   ]
  },
  {
   "cell_type": "code",
   "execution_count": null,
   "metadata": {
    "collapsed": true
   },
   "outputs": [],
   "source": []
  }
 ],
 "metadata": {
  "kernelspec": {
   "display_name": "Python 3",
   "language": "python",
   "name": "python3"
  },
  "language_info": {
   "codemirror_mode": {
    "name": "ipython",
    "version": 3
   },
   "file_extension": ".py",
   "mimetype": "text/x-python",
   "name": "python",
   "nbconvert_exporter": "python",
   "pygments_lexer": "ipython3",
   "version": "3.6.0"
  }
 },
 "nbformat": 4,
 "nbformat_minor": 1
}
